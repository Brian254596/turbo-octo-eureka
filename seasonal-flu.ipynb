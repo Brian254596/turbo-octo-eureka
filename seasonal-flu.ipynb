{
 "cells": [
  {
   "cell_type": "markdown",
   "id": "221b5135",
   "metadata": {},
   "source": [
    "## 1. Business Understanding\n",
    "\n",
    "Vaccination is a critical public health strategy to prevent the spread of infectious diseases like H1N1 and seasonal influenza. Despite their proven effectiveness, vaccination rates often remain below target levels due to various factors such as demographics, beliefs, and health behaviors.\n",
    "\n",
    "In this project, our objective is to **predict whether individuals received the H1N1 and seasonal flu vaccines** using survey data from the National 2009 H1N1 Flu Survey. By understanding the factors that influence vaccination decisions, we aim to help public health agencies:\n",
    "\n",
    "- **Identify population groups with low vaccination rates** and the characteristics that predict vaccine hesitancy.\n",
    "- **Design targeted awareness campaigns** and interventions to improve immunization coverage.\n",
    "- **Optimize resource allocation** by focusing efforts on communities with higher predicted non-vaccination likelihood.\n",
    "\n",
    "This project is a **binary classification problem** for each vaccine type (H1N1 and seasonal flu). The ultimate goal is to develop accurate models that support **data-driven decision-making** to enhance public health outcomes and reduce the spread of preventable diseases through better vaccination strategies.\n"
   ]
  },
  {
   "cell_type": "markdown",
   "id": "67992843",
   "metadata": {},
   "source": [
    "# 2 Data Understanding"
   ]
  },
  {
   "cell_type": "markdown",
   "id": "84f46c74",
   "metadata": {},
   "source": [
    "## 2.1 importing the data and library\n",
    "\n",
    "\n",
    "\n"
   ]
  },
  {
   "cell_type": "code",
   "execution_count": 110,
   "id": "29aed1b1",
   "metadata": {},
   "outputs": [],
   "source": [
    "import pandas as pd\n",
    "import zipfile"
   ]
  },
  {
   "cell_type": "code",
   "execution_count": 111,
   "id": "d0e93e41",
   "metadata": {},
   "outputs": [],
   "source": [
    "# Load thedataset\n",
    "df = pd.read_csv(\"data\\H1N1_Flu_Vaccines.csv\")\n"
   ]
  },
  {
   "cell_type": "code",
   "execution_count": 112,
   "id": "8570475d",
   "metadata": {},
   "outputs": [
    {
     "data": {
      "application/vnd.microsoft.datawrangler.viewer.v0+json": {
       "columns": [
        {
         "name": "index",
         "rawType": "int64",
         "type": "integer"
        },
        {
         "name": "respondent_id",
         "rawType": "int64",
         "type": "integer"
        },
        {
         "name": "h1n1_concern",
         "rawType": "float64",
         "type": "float"
        },
        {
         "name": "h1n1_knowledge",
         "rawType": "float64",
         "type": "float"
        },
        {
         "name": "behavioral_antiviral_meds",
         "rawType": "float64",
         "type": "float"
        },
        {
         "name": "behavioral_avoidance",
         "rawType": "float64",
         "type": "float"
        },
        {
         "name": "behavioral_face_mask",
         "rawType": "float64",
         "type": "float"
        },
        {
         "name": "behavioral_wash_hands",
         "rawType": "float64",
         "type": "float"
        },
        {
         "name": "behavioral_large_gatherings",
         "rawType": "float64",
         "type": "float"
        },
        {
         "name": "behavioral_outside_home",
         "rawType": "float64",
         "type": "float"
        },
        {
         "name": "behavioral_touch_face",
         "rawType": "float64",
         "type": "float"
        },
        {
         "name": "doctor_recc_h1n1",
         "rawType": "float64",
         "type": "float"
        },
        {
         "name": "doctor_recc_seasonal",
         "rawType": "float64",
         "type": "float"
        },
        {
         "name": "chronic_med_condition",
         "rawType": "float64",
         "type": "float"
        },
        {
         "name": "child_under_6_months",
         "rawType": "float64",
         "type": "float"
        },
        {
         "name": "health_worker",
         "rawType": "float64",
         "type": "float"
        },
        {
         "name": "health_insurance",
         "rawType": "float64",
         "type": "float"
        },
        {
         "name": "opinion_h1n1_vacc_effective",
         "rawType": "float64",
         "type": "float"
        },
        {
         "name": "opinion_h1n1_risk",
         "rawType": "float64",
         "type": "float"
        },
        {
         "name": "opinion_h1n1_sick_from_vacc",
         "rawType": "float64",
         "type": "float"
        },
        {
         "name": "opinion_seas_vacc_effective",
         "rawType": "float64",
         "type": "float"
        },
        {
         "name": "opinion_seas_risk",
         "rawType": "float64",
         "type": "float"
        },
        {
         "name": "opinion_seas_sick_from_vacc",
         "rawType": "float64",
         "type": "float"
        },
        {
         "name": "age_group",
         "rawType": "object",
         "type": "string"
        },
        {
         "name": "education",
         "rawType": "object",
         "type": "string"
        },
        {
         "name": "race",
         "rawType": "object",
         "type": "string"
        },
        {
         "name": "sex",
         "rawType": "object",
         "type": "string"
        },
        {
         "name": "income_poverty",
         "rawType": "object",
         "type": "string"
        },
        {
         "name": "marital_status",
         "rawType": "object",
         "type": "string"
        },
        {
         "name": "rent_or_own",
         "rawType": "object",
         "type": "string"
        },
        {
         "name": "employment_status",
         "rawType": "object",
         "type": "string"
        },
        {
         "name": "hhs_geo_region",
         "rawType": "object",
         "type": "string"
        },
        {
         "name": "census_msa",
         "rawType": "object",
         "type": "string"
        },
        {
         "name": "household_adults",
         "rawType": "float64",
         "type": "float"
        },
        {
         "name": "household_children",
         "rawType": "float64",
         "type": "float"
        },
        {
         "name": "employment_industry",
         "rawType": "object",
         "type": "unknown"
        },
        {
         "name": "employment_occupation",
         "rawType": "object",
         "type": "unknown"
        },
        {
         "name": "h1n1_vaccine",
         "rawType": "int64",
         "type": "integer"
        },
        {
         "name": "seasonal_vaccine",
         "rawType": "int64",
         "type": "integer"
        }
       ],
       "ref": "80237925-cf12-465b-9b13-fd77c2689ebd",
       "rows": [
        [
         "0",
         "0",
         "1.0",
         "0.0",
         "0.0",
         "0.0",
         "0.0",
         "0.0",
         "0.0",
         "1.0",
         "1.0",
         "0.0",
         "0.0",
         "0.0",
         "0.0",
         "0.0",
         "1.0",
         "3.0",
         "1.0",
         "2.0",
         "2.0",
         "1.0",
         "2.0",
         "55 - 64 Years",
         "< 12 Years",
         "White",
         "Female",
         "Below Poverty",
         "Not Married",
         "Own",
         "Not in Labor Force",
         "oxchjgsf",
         "Non-MSA",
         "0.0",
         "0.0",
         null,
         null,
         "0",
         "0"
        ],
        [
         "1",
         "1",
         "3.0",
         "2.0",
         "0.0",
         "1.0",
         "0.0",
         "1.0",
         "0.0",
         "1.0",
         "1.0",
         "0.0",
         "0.0",
         "0.0",
         "0.0",
         "0.0",
         "1.0",
         "5.0",
         "4.0",
         "4.0",
         "4.0",
         "2.0",
         "4.0",
         "35 - 44 Years",
         "12 Years",
         "White",
         "Male",
         "Below Poverty",
         "Not Married",
         "Rent",
         "Employed",
         "bhuqouqj",
         "MSA, Not Principle  City",
         "0.0",
         "0.0",
         "pxcmvdjn",
         "xgwztkwe",
         "0",
         "1"
        ],
        [
         "2",
         "2",
         "1.0",
         "1.0",
         "0.0",
         "1.0",
         "0.0",
         "0.0",
         "0.0",
         "0.0",
         "0.0",
         null,
         null,
         "1.0",
         "0.0",
         "0.0",
         null,
         "3.0",
         "1.0",
         "1.0",
         "4.0",
         "1.0",
         "2.0",
         "18 - 34 Years",
         "College Graduate",
         "White",
         "Male",
         "<= $75,000, Above Poverty",
         "Not Married",
         "Own",
         "Employed",
         "qufhixun",
         "MSA, Not Principle  City",
         "2.0",
         "0.0",
         "rucpziij",
         "xtkaffoo",
         "0",
         "0"
        ],
        [
         "3",
         "3",
         "1.0",
         "1.0",
         "0.0",
         "1.0",
         "0.0",
         "1.0",
         "1.0",
         "0.0",
         "0.0",
         "0.0",
         "1.0",
         "1.0",
         "0.0",
         "0.0",
         null,
         "3.0",
         "3.0",
         "5.0",
         "5.0",
         "4.0",
         "1.0",
         "65+ Years",
         "12 Years",
         "White",
         "Female",
         "Below Poverty",
         "Not Married",
         "Rent",
         "Not in Labor Force",
         "lrircsnp",
         "MSA, Principle City",
         "0.0",
         "0.0",
         null,
         null,
         "0",
         "1"
        ],
        [
         "4",
         "4",
         "2.0",
         "1.0",
         "0.0",
         "1.0",
         "0.0",
         "1.0",
         "1.0",
         "0.0",
         "1.0",
         "0.0",
         "0.0",
         "0.0",
         "0.0",
         "0.0",
         null,
         "3.0",
         "3.0",
         "2.0",
         "3.0",
         "1.0",
         "4.0",
         "45 - 54 Years",
         "Some College",
         "White",
         "Female",
         "<= $75,000, Above Poverty",
         "Married",
         "Own",
         "Employed",
         "qufhixun",
         "MSA, Not Principle  City",
         "1.0",
         "0.0",
         "wxleyezf",
         "emcorrxb",
         "0",
         "0"
        ]
       ],
       "shape": {
        "columns": 38,
        "rows": 5
       }
      },
      "text/html": [
       "<div>\n",
       "<style scoped>\n",
       "    .dataframe tbody tr th:only-of-type {\n",
       "        vertical-align: middle;\n",
       "    }\n",
       "\n",
       "    .dataframe tbody tr th {\n",
       "        vertical-align: top;\n",
       "    }\n",
       "\n",
       "    .dataframe thead th {\n",
       "        text-align: right;\n",
       "    }\n",
       "</style>\n",
       "<table border=\"1\" class=\"dataframe\">\n",
       "  <thead>\n",
       "    <tr style=\"text-align: right;\">\n",
       "      <th></th>\n",
       "      <th>respondent_id</th>\n",
       "      <th>h1n1_concern</th>\n",
       "      <th>h1n1_knowledge</th>\n",
       "      <th>behavioral_antiviral_meds</th>\n",
       "      <th>behavioral_avoidance</th>\n",
       "      <th>behavioral_face_mask</th>\n",
       "      <th>behavioral_wash_hands</th>\n",
       "      <th>behavioral_large_gatherings</th>\n",
       "      <th>behavioral_outside_home</th>\n",
       "      <th>behavioral_touch_face</th>\n",
       "      <th>...</th>\n",
       "      <th>rent_or_own</th>\n",
       "      <th>employment_status</th>\n",
       "      <th>hhs_geo_region</th>\n",
       "      <th>census_msa</th>\n",
       "      <th>household_adults</th>\n",
       "      <th>household_children</th>\n",
       "      <th>employment_industry</th>\n",
       "      <th>employment_occupation</th>\n",
       "      <th>h1n1_vaccine</th>\n",
       "      <th>seasonal_vaccine</th>\n",
       "    </tr>\n",
       "  </thead>\n",
       "  <tbody>\n",
       "    <tr>\n",
       "      <th>0</th>\n",
       "      <td>0</td>\n",
       "      <td>1.0</td>\n",
       "      <td>0.0</td>\n",
       "      <td>0.0</td>\n",
       "      <td>0.0</td>\n",
       "      <td>0.0</td>\n",
       "      <td>0.0</td>\n",
       "      <td>0.0</td>\n",
       "      <td>1.0</td>\n",
       "      <td>1.0</td>\n",
       "      <td>...</td>\n",
       "      <td>Own</td>\n",
       "      <td>Not in Labor Force</td>\n",
       "      <td>oxchjgsf</td>\n",
       "      <td>Non-MSA</td>\n",
       "      <td>0.0</td>\n",
       "      <td>0.0</td>\n",
       "      <td>NaN</td>\n",
       "      <td>NaN</td>\n",
       "      <td>0</td>\n",
       "      <td>0</td>\n",
       "    </tr>\n",
       "    <tr>\n",
       "      <th>1</th>\n",
       "      <td>1</td>\n",
       "      <td>3.0</td>\n",
       "      <td>2.0</td>\n",
       "      <td>0.0</td>\n",
       "      <td>1.0</td>\n",
       "      <td>0.0</td>\n",
       "      <td>1.0</td>\n",
       "      <td>0.0</td>\n",
       "      <td>1.0</td>\n",
       "      <td>1.0</td>\n",
       "      <td>...</td>\n",
       "      <td>Rent</td>\n",
       "      <td>Employed</td>\n",
       "      <td>bhuqouqj</td>\n",
       "      <td>MSA, Not Principle  City</td>\n",
       "      <td>0.0</td>\n",
       "      <td>0.0</td>\n",
       "      <td>pxcmvdjn</td>\n",
       "      <td>xgwztkwe</td>\n",
       "      <td>0</td>\n",
       "      <td>1</td>\n",
       "    </tr>\n",
       "    <tr>\n",
       "      <th>2</th>\n",
       "      <td>2</td>\n",
       "      <td>1.0</td>\n",
       "      <td>1.0</td>\n",
       "      <td>0.0</td>\n",
       "      <td>1.0</td>\n",
       "      <td>0.0</td>\n",
       "      <td>0.0</td>\n",
       "      <td>0.0</td>\n",
       "      <td>0.0</td>\n",
       "      <td>0.0</td>\n",
       "      <td>...</td>\n",
       "      <td>Own</td>\n",
       "      <td>Employed</td>\n",
       "      <td>qufhixun</td>\n",
       "      <td>MSA, Not Principle  City</td>\n",
       "      <td>2.0</td>\n",
       "      <td>0.0</td>\n",
       "      <td>rucpziij</td>\n",
       "      <td>xtkaffoo</td>\n",
       "      <td>0</td>\n",
       "      <td>0</td>\n",
       "    </tr>\n",
       "    <tr>\n",
       "      <th>3</th>\n",
       "      <td>3</td>\n",
       "      <td>1.0</td>\n",
       "      <td>1.0</td>\n",
       "      <td>0.0</td>\n",
       "      <td>1.0</td>\n",
       "      <td>0.0</td>\n",
       "      <td>1.0</td>\n",
       "      <td>1.0</td>\n",
       "      <td>0.0</td>\n",
       "      <td>0.0</td>\n",
       "      <td>...</td>\n",
       "      <td>Rent</td>\n",
       "      <td>Not in Labor Force</td>\n",
       "      <td>lrircsnp</td>\n",
       "      <td>MSA, Principle City</td>\n",
       "      <td>0.0</td>\n",
       "      <td>0.0</td>\n",
       "      <td>NaN</td>\n",
       "      <td>NaN</td>\n",
       "      <td>0</td>\n",
       "      <td>1</td>\n",
       "    </tr>\n",
       "    <tr>\n",
       "      <th>4</th>\n",
       "      <td>4</td>\n",
       "      <td>2.0</td>\n",
       "      <td>1.0</td>\n",
       "      <td>0.0</td>\n",
       "      <td>1.0</td>\n",
       "      <td>0.0</td>\n",
       "      <td>1.0</td>\n",
       "      <td>1.0</td>\n",
       "      <td>0.0</td>\n",
       "      <td>1.0</td>\n",
       "      <td>...</td>\n",
       "      <td>Own</td>\n",
       "      <td>Employed</td>\n",
       "      <td>qufhixun</td>\n",
       "      <td>MSA, Not Principle  City</td>\n",
       "      <td>1.0</td>\n",
       "      <td>0.0</td>\n",
       "      <td>wxleyezf</td>\n",
       "      <td>emcorrxb</td>\n",
       "      <td>0</td>\n",
       "      <td>0</td>\n",
       "    </tr>\n",
       "  </tbody>\n",
       "</table>\n",
       "<p>5 rows × 38 columns</p>\n",
       "</div>"
      ],
      "text/plain": [
       "   respondent_id  h1n1_concern  h1n1_knowledge  behavioral_antiviral_meds  \\\n",
       "0              0           1.0             0.0                        0.0   \n",
       "1              1           3.0             2.0                        0.0   \n",
       "2              2           1.0             1.0                        0.0   \n",
       "3              3           1.0             1.0                        0.0   \n",
       "4              4           2.0             1.0                        0.0   \n",
       "\n",
       "   behavioral_avoidance  behavioral_face_mask  behavioral_wash_hands  \\\n",
       "0                   0.0                   0.0                    0.0   \n",
       "1                   1.0                   0.0                    1.0   \n",
       "2                   1.0                   0.0                    0.0   \n",
       "3                   1.0                   0.0                    1.0   \n",
       "4                   1.0                   0.0                    1.0   \n",
       "\n",
       "   behavioral_large_gatherings  behavioral_outside_home  \\\n",
       "0                          0.0                      1.0   \n",
       "1                          0.0                      1.0   \n",
       "2                          0.0                      0.0   \n",
       "3                          1.0                      0.0   \n",
       "4                          1.0                      0.0   \n",
       "\n",
       "   behavioral_touch_face  ...  rent_or_own   employment_status  \\\n",
       "0                    1.0  ...          Own  Not in Labor Force   \n",
       "1                    1.0  ...         Rent            Employed   \n",
       "2                    0.0  ...          Own            Employed   \n",
       "3                    0.0  ...         Rent  Not in Labor Force   \n",
       "4                    1.0  ...          Own            Employed   \n",
       "\n",
       "   hhs_geo_region                census_msa  household_adults  \\\n",
       "0        oxchjgsf                   Non-MSA               0.0   \n",
       "1        bhuqouqj  MSA, Not Principle  City               0.0   \n",
       "2        qufhixun  MSA, Not Principle  City               2.0   \n",
       "3        lrircsnp       MSA, Principle City               0.0   \n",
       "4        qufhixun  MSA, Not Principle  City               1.0   \n",
       "\n",
       "   household_children  employment_industry  employment_occupation  \\\n",
       "0                 0.0                  NaN                    NaN   \n",
       "1                 0.0             pxcmvdjn               xgwztkwe   \n",
       "2                 0.0             rucpziij               xtkaffoo   \n",
       "3                 0.0                  NaN                    NaN   \n",
       "4                 0.0             wxleyezf               emcorrxb   \n",
       "\n",
       "   h1n1_vaccine  seasonal_vaccine  \n",
       "0             0                 0  \n",
       "1             0                 1  \n",
       "2             0                 0  \n",
       "3             0                 1  \n",
       "4             0                 0  \n",
       "\n",
       "[5 rows x 38 columns]"
      ]
     },
     "execution_count": 112,
     "metadata": {},
     "output_type": "execute_result"
    }
   ],
   "source": [
    "# Display the first 5 rows\n",
    "df.head()"
   ]
  },
  {
   "cell_type": "code",
   "execution_count": 113,
   "id": "d077a7f2",
   "metadata": {},
   "outputs": [
    {
     "data": {
      "text/plain": [
       "Index(['respondent_id', 'h1n1_concern', 'h1n1_knowledge',\n",
       "       'behavioral_antiviral_meds', 'behavioral_avoidance',\n",
       "       'behavioral_face_mask', 'behavioral_wash_hands',\n",
       "       'behavioral_large_gatherings', 'behavioral_outside_home',\n",
       "       'behavioral_touch_face', 'doctor_recc_h1n1', 'doctor_recc_seasonal',\n",
       "       'chronic_med_condition', 'child_under_6_months', 'health_worker',\n",
       "       'health_insurance', 'opinion_h1n1_vacc_effective', 'opinion_h1n1_risk',\n",
       "       'opinion_h1n1_sick_from_vacc', 'opinion_seas_vacc_effective',\n",
       "       'opinion_seas_risk', 'opinion_seas_sick_from_vacc', 'age_group',\n",
       "       'education', 'race', 'sex', 'income_poverty', 'marital_status',\n",
       "       'rent_or_own', 'employment_status', 'hhs_geo_region', 'census_msa',\n",
       "       'household_adults', 'household_children', 'employment_industry',\n",
       "       'employment_occupation', 'h1n1_vaccine', 'seasonal_vaccine'],\n",
       "      dtype='object')"
      ]
     },
     "execution_count": 113,
     "metadata": {},
     "output_type": "execute_result"
    }
   ],
   "source": [
    "df.columns"
   ]
  },
  {
   "cell_type": "markdown",
   "id": "70d29beb",
   "metadata": {},
   "source": [
    "## 2.2 Explanation of Dataset Columns\n",
    "\n",
    "Below is a detailed explanation of all the columns currently available in the dataset:\n",
    "\n",
    "### H1N1-Specific Features\n",
    "- **h1n1_concern**: Level of concern about the H1N1 flu.\n",
    "  - 0 = Not at all concerned, 1 = Not very concerned, 2 = Somewhat concerned, 3 = Very concerned.\n",
    "- **h1n1_knowledge**: Level of knowledge about the H1N1 flu.\n",
    "  - 0 = No knowledge, 1 = A little knowledge, 2 = A lot of knowledge.\n",
    "- **doctor_recc_h1n1**: Whether the respondent’s doctor recommended the H1N1 vaccine (0 = No, 1 = Yes).\n",
    "\n",
    "### Behavioral Features (All Binary)\n",
    "- **behavioral_antiviral_meds**: Has taken antiviral medications.\n",
    "- **behavioral_avoidance**: Avoided close contact with people who have flu-like symptoms.\n",
    "- **behavioral_face_mask**: Bought a face mask.\n",
    "- **behavioral_wash_hands**: Frequently washed hands or used hand sanitizer.\n",
    "- **behavioral_large_gatherings**: Reduced time spent at large gatherings.\n",
    "- **behavioral_outside_home**: Reduced contact with people outside the household.\n",
    "- **behavioral_touch_face**: Avoided touching eyes, nose, or mouth.\n",
    "\n",
    "_All behavioral features are binary: 0 = No, 1 = Yes._\n",
    "\n",
    "### Doctor Recommendations\n",
    "- **doctor_recc_seasonal**: Whether the respondent’s doctor recommended the seasonal flu vaccine (0 = No, 1 = Yes).\n",
    "\n",
    "###  Health and Household Risk Factors\n",
    "- **chronic_med_condition**: Has one or more chronic medical conditions (e.g., asthma, diabetes, heart or kidney disease, weakened immune system) — (0 = No, 1 = Yes).\n",
    "- **child_under_6_months**: Has close contact with a child under six months old (0 = No, 1 = Yes).\n",
    "- **health_worker**: Is a healthcare worker (0 = No, 1 = Yes).\n",
    "- **health_insurance**: Has health insurance (0 = No, 1 = Yes).\n",
    "\n",
    "###  Opinion Features\n",
    "- **opinion_h1n1_vacc_effective**: Opinion on the effectiveness of the H1N1 vaccine.\n",
    "  - 1 = Not at all effective; 2 = Not very effective; 3 = Don't know; 4 = Somewhat effective; 5 = Very effective.\n",
    "- **opinion_h1n1_risk**: Opinion on the risk of getting H1N1 flu without vaccination.\n",
    "  - 1 = Very Low; 2 = Somewhat low; 3 = Don't know; 4 = Somewhat high; 5 = Very high.\n",
    "- **opinion_h1n1_sick_from_vacc**: Worry about getting sick from the H1N1 vaccine.\n",
    "  - 1 = Not at all worried; 2 = Not very worried; 3 = Don't know; 4 = Somewhat worried; 5 = Very worried.\n",
    "- **opinion_seas_vacc_effective**: Opinion on the effectiveness of the seasonal flu vaccine.\n",
    "  - Same scale as above.\n",
    "- **opinion_seas_risk**: Opinion on the risk of getting seasonal flu without vaccination.\n",
    "  - Same scale as above.\n",
    "- **opinion_seas_sick_from_vacc**: Worry about getting sick from the seasonal flu vaccine.\n",
    "  - Same scale as above.\n",
    "\n",
    "### Demographic Features\n",
    "- **age_group**: Age category of the respondent.\n",
    "- **education**: Education level.\n",
    "- **race**: Race of the respondent.\n",
    "- **sex**: Gender.\n",
    "- **income_poverty**: Household annual income relative to 2008 Census poverty thresholds.\n",
    "- **marital_status**: Marital status.\n",
    "- **rent_or_own**: Housing situation (rent or own).\n",
    "- **employment_status**: Employment status.\n",
    "- **employment_industry**: Industry where the respondent works (encoded as random strings).\n",
    "- **employment_occupation**: Occupation type (encoded as random strings).\n",
    "- **hhs_geo_region**: Region of residence, using the U.S. Department of Health and Human Services 10-region classification (encoded).\n",
    "- **census_msa**: Residence within a Metropolitan Statistical Area as defined by the U.S. Census.\n",
    "- **household_adults**: Number of other adults in the household (top-coded at 3).\n",
    "- **household_children**: Number of children in the household (top-coded at 3).\n",
    "\n",
    "\n",
    "✅ **Note:**  \n",
    "- All binary columns are encoded as **0 = No** and **1 = Yes**.\n",
    "- Some categorical variables (like `age_group`, `education`, `income_poverty`) are nominal and will need encoding before modeling.\n",
    "\n",
    "This covers all columns in your dataset! 📊\n"
   ]
  },
  {
   "cell_type": "markdown",
   "id": "7e363f0c",
   "metadata": {},
   "source": [
    "✅ 1️⃣ Check dataset dimensions"
   ]
  },
  {
   "cell_type": "code",
   "execution_count": 114,
   "id": "92f5a1cb",
   "metadata": {},
   "outputs": [
    {
     "name": "stdout",
     "output_type": "stream",
     "text": [
      "Shape of dataset: (26707, 38)\n"
     ]
    }
   ],
   "source": [
    "# Number of rows and columns\n",
    "print(\"Shape of dataset:\", df.shape)\n"
   ]
  },
  {
   "cell_type": "markdown",
   "id": "373687d1",
   "metadata": {},
   "source": [
    "### 📏 Dataset Shape\n",
    "\n",
    "the dataset contains **26,707 rows** (individual survey respondents) and **38 columns** (variables).  \n",
    "This indicates we have a substantial amount of data to train and test predictive models, with multiple features available to help explain vaccination decisions.\n"
   ]
  },
  {
   "cell_type": "markdown",
   "id": "52440d1f",
   "metadata": {},
   "source": [
    "✅ 2️⃣ See column names & data types"
   ]
  },
  {
   "cell_type": "code",
   "execution_count": 115,
   "id": "fc6e1a73",
   "metadata": {},
   "outputs": [
    {
     "name": "stdout",
     "output_type": "stream",
     "text": [
      "<class 'pandas.core.frame.DataFrame'>\n",
      "RangeIndex: 26707 entries, 0 to 26706\n",
      "Data columns (total 38 columns):\n",
      " #   Column                       Non-Null Count  Dtype  \n",
      "---  ------                       --------------  -----  \n",
      " 0   respondent_id                26707 non-null  int64  \n",
      " 1   h1n1_concern                 26615 non-null  float64\n",
      " 2   h1n1_knowledge               26591 non-null  float64\n",
      " 3   behavioral_antiviral_meds    26636 non-null  float64\n",
      " 4   behavioral_avoidance         26499 non-null  float64\n",
      " 5   behavioral_face_mask         26688 non-null  float64\n",
      " 6   behavioral_wash_hands        26665 non-null  float64\n",
      " 7   behavioral_large_gatherings  26620 non-null  float64\n",
      " 8   behavioral_outside_home      26625 non-null  float64\n",
      " 9   behavioral_touch_face        26579 non-null  float64\n",
      " 10  doctor_recc_h1n1             24547 non-null  float64\n",
      " 11  doctor_recc_seasonal         24547 non-null  float64\n",
      " 12  chronic_med_condition        25736 non-null  float64\n",
      " 13  child_under_6_months         25887 non-null  float64\n",
      " 14  health_worker                25903 non-null  float64\n",
      " 15  health_insurance             14433 non-null  float64\n",
      " 16  opinion_h1n1_vacc_effective  26316 non-null  float64\n",
      " 17  opinion_h1n1_risk            26319 non-null  float64\n",
      " 18  opinion_h1n1_sick_from_vacc  26312 non-null  float64\n",
      " 19  opinion_seas_vacc_effective  26245 non-null  float64\n",
      " 20  opinion_seas_risk            26193 non-null  float64\n",
      " 21  opinion_seas_sick_from_vacc  26170 non-null  float64\n",
      " 22  age_group                    26707 non-null  object \n",
      " 23  education                    25300 non-null  object \n",
      " 24  race                         26707 non-null  object \n",
      " 25  sex                          26707 non-null  object \n",
      " 26  income_poverty               22284 non-null  object \n",
      " 27  marital_status               25299 non-null  object \n",
      " 28  rent_or_own                  24665 non-null  object \n",
      " 29  employment_status            25244 non-null  object \n",
      " 30  hhs_geo_region               26707 non-null  object \n",
      " 31  census_msa                   26707 non-null  object \n",
      " 32  household_adults             26458 non-null  float64\n",
      " 33  household_children           26458 non-null  float64\n",
      " 34  employment_industry          13377 non-null  object \n",
      " 35  employment_occupation        13237 non-null  object \n",
      " 36  h1n1_vaccine                 26707 non-null  int64  \n",
      " 37  seasonal_vaccine             26707 non-null  int64  \n",
      "dtypes: float64(23), int64(3), object(12)\n",
      "memory usage: 7.7+ MB\n",
      "None\n"
     ]
    }
   ],
   "source": [
    "# Data types and non-null counts\n",
    "print(df.info())\n"
   ]
  },
  {
   "cell_type": "markdown",
   "id": "8ca8222b",
   "metadata": {},
   "source": [
    "### 🗂️ Dataset Info\n",
    "\n",
    "The `.info()` output shows:\n",
    "- The dataset has **26,707 rows** and **38 columns**.\n",
    "- There are **23 numeric columns** (`float64`), **3 integer columns** (`int64`), and **12 categorical columns** (`object`).\n",
    "- Some columns have **missing values**, as the non-null counts are less than 26,707 (e.g., `health_insurance`, `employment_industry`).\n",
    "- The two target columns, `h1n1_vaccine` and `seasonal_vaccine`, have **no missing values**.\n",
    "\n",
    "This helps us understand the data types, confirm our target variables are complete, and identify columns that will need **cleaning or imputation**.\n"
   ]
  },
  {
   "cell_type": "markdown",
   "id": "1181bcbc",
   "metadata": {},
   "source": [
    "✅ 4️⃣ Get summary statistics (numeric)"
   ]
  },
  {
   "cell_type": "code",
   "execution_count": 116,
   "id": "24a6b241",
   "metadata": {},
   "outputs": [
    {
     "data": {
      "application/vnd.microsoft.datawrangler.viewer.v0+json": {
       "columns": [
        {
         "name": "index",
         "rawType": "object",
         "type": "string"
        },
        {
         "name": "respondent_id",
         "rawType": "float64",
         "type": "float"
        },
        {
         "name": "h1n1_concern",
         "rawType": "float64",
         "type": "float"
        },
        {
         "name": "h1n1_knowledge",
         "rawType": "float64",
         "type": "float"
        },
        {
         "name": "behavioral_antiviral_meds",
         "rawType": "float64",
         "type": "float"
        },
        {
         "name": "behavioral_avoidance",
         "rawType": "float64",
         "type": "float"
        },
        {
         "name": "behavioral_face_mask",
         "rawType": "float64",
         "type": "float"
        },
        {
         "name": "behavioral_wash_hands",
         "rawType": "float64",
         "type": "float"
        },
        {
         "name": "behavioral_large_gatherings",
         "rawType": "float64",
         "type": "float"
        },
        {
         "name": "behavioral_outside_home",
         "rawType": "float64",
         "type": "float"
        },
        {
         "name": "behavioral_touch_face",
         "rawType": "float64",
         "type": "float"
        },
        {
         "name": "doctor_recc_h1n1",
         "rawType": "float64",
         "type": "float"
        },
        {
         "name": "doctor_recc_seasonal",
         "rawType": "float64",
         "type": "float"
        },
        {
         "name": "chronic_med_condition",
         "rawType": "float64",
         "type": "float"
        },
        {
         "name": "child_under_6_months",
         "rawType": "float64",
         "type": "float"
        },
        {
         "name": "health_worker",
         "rawType": "float64",
         "type": "float"
        },
        {
         "name": "health_insurance",
         "rawType": "float64",
         "type": "float"
        },
        {
         "name": "opinion_h1n1_vacc_effective",
         "rawType": "float64",
         "type": "float"
        },
        {
         "name": "opinion_h1n1_risk",
         "rawType": "float64",
         "type": "float"
        },
        {
         "name": "opinion_h1n1_sick_from_vacc",
         "rawType": "float64",
         "type": "float"
        },
        {
         "name": "opinion_seas_vacc_effective",
         "rawType": "float64",
         "type": "float"
        },
        {
         "name": "opinion_seas_risk",
         "rawType": "float64",
         "type": "float"
        },
        {
         "name": "opinion_seas_sick_from_vacc",
         "rawType": "float64",
         "type": "float"
        },
        {
         "name": "household_adults",
         "rawType": "float64",
         "type": "float"
        },
        {
         "name": "household_children",
         "rawType": "float64",
         "type": "float"
        },
        {
         "name": "h1n1_vaccine",
         "rawType": "float64",
         "type": "float"
        },
        {
         "name": "seasonal_vaccine",
         "rawType": "float64",
         "type": "float"
        }
       ],
       "ref": "3256fd22-1761-4125-9573-aad19908dbb2",
       "rows": [
        [
         "count",
         "26707.0",
         "26615.0",
         "26591.0",
         "26636.0",
         "26499.0",
         "26688.0",
         "26665.0",
         "26620.0",
         "26625.0",
         "26579.0",
         "24547.0",
         "24547.0",
         "25736.0",
         "25887.0",
         "25903.0",
         "14433.0",
         "26316.0",
         "26319.0",
         "26312.0",
         "26245.0",
         "26193.0",
         "26170.0",
         "26458.0",
         "26458.0",
         "26707.0",
         "26707.0"
        ],
        [
         "mean",
         "13353.0",
         "1.6184858162690212",
         "1.2625324357865444",
         "0.048843670220753865",
         "0.7256122872561229",
         "0.06898231414868106",
         "0.825614100881305",
         "0.3586401202103681",
         "0.33731455399061033",
         "0.6772640054178111",
         "0.2203120544262028",
         "0.32973479447590337",
         "0.28326080198943115",
         "0.0825897168462935",
         "0.111917538509053",
         "0.8797200859142243",
         "3.85062319501444",
         "2.3425662069227555",
         "2.357669504408635",
         "4.025985902076586",
         "2.719161608063223",
         "2.1181123423767674",
         "0.8864993574722201",
         "0.5345831128581148",
         "0.2124536638334519",
         "0.4656082674954132"
        ],
        [
         "std",
         "7709.791155839869",
         "0.910310689354629",
         "0.6181491336862521",
         "0.21554514688376925",
         "0.44621363670284353",
         "0.2534288086212574",
         "0.3794480951683255",
         "0.4796102850061874",
         "0.47280211674063427",
         "0.46753149239735653",
         "0.4144655005810059",
         "0.4701263273729062",
         "0.45059073345235295",
         "0.2752663846720781",
         "0.3152710584813164",
         "0.32529984346990304",
         "1.007435774345147",
         "1.2855392866937587",
         "1.3627659171715765",
         "1.0865649035819012",
         "1.3850551813594443",
         "1.3329499250470451",
         "0.7534215353448523",
         "0.9281733165472291",
         "0.40905179342899867",
         "0.4988251453548936"
        ],
        [
         "min",
         "0.0",
         "0.0",
         "0.0",
         "0.0",
         "0.0",
         "0.0",
         "0.0",
         "0.0",
         "0.0",
         "0.0",
         "0.0",
         "0.0",
         "0.0",
         "0.0",
         "0.0",
         "0.0",
         "1.0",
         "1.0",
         "1.0",
         "1.0",
         "1.0",
         "1.0",
         "0.0",
         "0.0",
         "0.0",
         "0.0"
        ],
        [
         "25%",
         "6676.5",
         "1.0",
         "1.0",
         "0.0",
         "0.0",
         "0.0",
         "1.0",
         "0.0",
         "0.0",
         "0.0",
         "0.0",
         "0.0",
         "0.0",
         "0.0",
         "0.0",
         "1.0",
         "3.0",
         "1.0",
         "1.0",
         "4.0",
         "2.0",
         "1.0",
         "0.0",
         "0.0",
         "0.0",
         "0.0"
        ],
        [
         "50%",
         "13353.0",
         "2.0",
         "1.0",
         "0.0",
         "1.0",
         "0.0",
         "1.0",
         "0.0",
         "0.0",
         "1.0",
         "0.0",
         "0.0",
         "0.0",
         "0.0",
         "0.0",
         "1.0",
         "4.0",
         "2.0",
         "2.0",
         "4.0",
         "2.0",
         "2.0",
         "1.0",
         "0.0",
         "0.0",
         "0.0"
        ],
        [
         "75%",
         "20029.5",
         "2.0",
         "2.0",
         "0.0",
         "1.0",
         "0.0",
         "1.0",
         "1.0",
         "1.0",
         "1.0",
         "0.0",
         "1.0",
         "1.0",
         "0.0",
         "0.0",
         "1.0",
         "5.0",
         "4.0",
         "4.0",
         "5.0",
         "4.0",
         "4.0",
         "1.0",
         "1.0",
         "0.0",
         "1.0"
        ],
        [
         "max",
         "26706.0",
         "3.0",
         "2.0",
         "1.0",
         "1.0",
         "1.0",
         "1.0",
         "1.0",
         "1.0",
         "1.0",
         "1.0",
         "1.0",
         "1.0",
         "1.0",
         "1.0",
         "1.0",
         "5.0",
         "5.0",
         "5.0",
         "5.0",
         "5.0",
         "5.0",
         "3.0",
         "3.0",
         "1.0",
         "1.0"
        ]
       ],
       "shape": {
        "columns": 26,
        "rows": 8
       }
      },
      "text/html": [
       "<div>\n",
       "<style scoped>\n",
       "    .dataframe tbody tr th:only-of-type {\n",
       "        vertical-align: middle;\n",
       "    }\n",
       "\n",
       "    .dataframe tbody tr th {\n",
       "        vertical-align: top;\n",
       "    }\n",
       "\n",
       "    .dataframe thead th {\n",
       "        text-align: right;\n",
       "    }\n",
       "</style>\n",
       "<table border=\"1\" class=\"dataframe\">\n",
       "  <thead>\n",
       "    <tr style=\"text-align: right;\">\n",
       "      <th></th>\n",
       "      <th>respondent_id</th>\n",
       "      <th>h1n1_concern</th>\n",
       "      <th>h1n1_knowledge</th>\n",
       "      <th>behavioral_antiviral_meds</th>\n",
       "      <th>behavioral_avoidance</th>\n",
       "      <th>behavioral_face_mask</th>\n",
       "      <th>behavioral_wash_hands</th>\n",
       "      <th>behavioral_large_gatherings</th>\n",
       "      <th>behavioral_outside_home</th>\n",
       "      <th>behavioral_touch_face</th>\n",
       "      <th>...</th>\n",
       "      <th>opinion_h1n1_vacc_effective</th>\n",
       "      <th>opinion_h1n1_risk</th>\n",
       "      <th>opinion_h1n1_sick_from_vacc</th>\n",
       "      <th>opinion_seas_vacc_effective</th>\n",
       "      <th>opinion_seas_risk</th>\n",
       "      <th>opinion_seas_sick_from_vacc</th>\n",
       "      <th>household_adults</th>\n",
       "      <th>household_children</th>\n",
       "      <th>h1n1_vaccine</th>\n",
       "      <th>seasonal_vaccine</th>\n",
       "    </tr>\n",
       "  </thead>\n",
       "  <tbody>\n",
       "    <tr>\n",
       "      <th>count</th>\n",
       "      <td>26707.000000</td>\n",
       "      <td>26615.000000</td>\n",
       "      <td>26591.000000</td>\n",
       "      <td>26636.000000</td>\n",
       "      <td>26499.000000</td>\n",
       "      <td>26688.000000</td>\n",
       "      <td>26665.000000</td>\n",
       "      <td>26620.00000</td>\n",
       "      <td>26625.000000</td>\n",
       "      <td>26579.000000</td>\n",
       "      <td>...</td>\n",
       "      <td>26316.000000</td>\n",
       "      <td>26319.000000</td>\n",
       "      <td>26312.000000</td>\n",
       "      <td>26245.000000</td>\n",
       "      <td>26193.000000</td>\n",
       "      <td>26170.000000</td>\n",
       "      <td>26458.000000</td>\n",
       "      <td>26458.000000</td>\n",
       "      <td>26707.000000</td>\n",
       "      <td>26707.000000</td>\n",
       "    </tr>\n",
       "    <tr>\n",
       "      <th>mean</th>\n",
       "      <td>13353.000000</td>\n",
       "      <td>1.618486</td>\n",
       "      <td>1.262532</td>\n",
       "      <td>0.048844</td>\n",
       "      <td>0.725612</td>\n",
       "      <td>0.068982</td>\n",
       "      <td>0.825614</td>\n",
       "      <td>0.35864</td>\n",
       "      <td>0.337315</td>\n",
       "      <td>0.677264</td>\n",
       "      <td>...</td>\n",
       "      <td>3.850623</td>\n",
       "      <td>2.342566</td>\n",
       "      <td>2.357670</td>\n",
       "      <td>4.025986</td>\n",
       "      <td>2.719162</td>\n",
       "      <td>2.118112</td>\n",
       "      <td>0.886499</td>\n",
       "      <td>0.534583</td>\n",
       "      <td>0.212454</td>\n",
       "      <td>0.465608</td>\n",
       "    </tr>\n",
       "    <tr>\n",
       "      <th>std</th>\n",
       "      <td>7709.791156</td>\n",
       "      <td>0.910311</td>\n",
       "      <td>0.618149</td>\n",
       "      <td>0.215545</td>\n",
       "      <td>0.446214</td>\n",
       "      <td>0.253429</td>\n",
       "      <td>0.379448</td>\n",
       "      <td>0.47961</td>\n",
       "      <td>0.472802</td>\n",
       "      <td>0.467531</td>\n",
       "      <td>...</td>\n",
       "      <td>1.007436</td>\n",
       "      <td>1.285539</td>\n",
       "      <td>1.362766</td>\n",
       "      <td>1.086565</td>\n",
       "      <td>1.385055</td>\n",
       "      <td>1.332950</td>\n",
       "      <td>0.753422</td>\n",
       "      <td>0.928173</td>\n",
       "      <td>0.409052</td>\n",
       "      <td>0.498825</td>\n",
       "    </tr>\n",
       "    <tr>\n",
       "      <th>min</th>\n",
       "      <td>0.000000</td>\n",
       "      <td>0.000000</td>\n",
       "      <td>0.000000</td>\n",
       "      <td>0.000000</td>\n",
       "      <td>0.000000</td>\n",
       "      <td>0.000000</td>\n",
       "      <td>0.000000</td>\n",
       "      <td>0.00000</td>\n",
       "      <td>0.000000</td>\n",
       "      <td>0.000000</td>\n",
       "      <td>...</td>\n",
       "      <td>1.000000</td>\n",
       "      <td>1.000000</td>\n",
       "      <td>1.000000</td>\n",
       "      <td>1.000000</td>\n",
       "      <td>1.000000</td>\n",
       "      <td>1.000000</td>\n",
       "      <td>0.000000</td>\n",
       "      <td>0.000000</td>\n",
       "      <td>0.000000</td>\n",
       "      <td>0.000000</td>\n",
       "    </tr>\n",
       "    <tr>\n",
       "      <th>25%</th>\n",
       "      <td>6676.500000</td>\n",
       "      <td>1.000000</td>\n",
       "      <td>1.000000</td>\n",
       "      <td>0.000000</td>\n",
       "      <td>0.000000</td>\n",
       "      <td>0.000000</td>\n",
       "      <td>1.000000</td>\n",
       "      <td>0.00000</td>\n",
       "      <td>0.000000</td>\n",
       "      <td>0.000000</td>\n",
       "      <td>...</td>\n",
       "      <td>3.000000</td>\n",
       "      <td>1.000000</td>\n",
       "      <td>1.000000</td>\n",
       "      <td>4.000000</td>\n",
       "      <td>2.000000</td>\n",
       "      <td>1.000000</td>\n",
       "      <td>0.000000</td>\n",
       "      <td>0.000000</td>\n",
       "      <td>0.000000</td>\n",
       "      <td>0.000000</td>\n",
       "    </tr>\n",
       "    <tr>\n",
       "      <th>50%</th>\n",
       "      <td>13353.000000</td>\n",
       "      <td>2.000000</td>\n",
       "      <td>1.000000</td>\n",
       "      <td>0.000000</td>\n",
       "      <td>1.000000</td>\n",
       "      <td>0.000000</td>\n",
       "      <td>1.000000</td>\n",
       "      <td>0.00000</td>\n",
       "      <td>0.000000</td>\n",
       "      <td>1.000000</td>\n",
       "      <td>...</td>\n",
       "      <td>4.000000</td>\n",
       "      <td>2.000000</td>\n",
       "      <td>2.000000</td>\n",
       "      <td>4.000000</td>\n",
       "      <td>2.000000</td>\n",
       "      <td>2.000000</td>\n",
       "      <td>1.000000</td>\n",
       "      <td>0.000000</td>\n",
       "      <td>0.000000</td>\n",
       "      <td>0.000000</td>\n",
       "    </tr>\n",
       "    <tr>\n",
       "      <th>75%</th>\n",
       "      <td>20029.500000</td>\n",
       "      <td>2.000000</td>\n",
       "      <td>2.000000</td>\n",
       "      <td>0.000000</td>\n",
       "      <td>1.000000</td>\n",
       "      <td>0.000000</td>\n",
       "      <td>1.000000</td>\n",
       "      <td>1.00000</td>\n",
       "      <td>1.000000</td>\n",
       "      <td>1.000000</td>\n",
       "      <td>...</td>\n",
       "      <td>5.000000</td>\n",
       "      <td>4.000000</td>\n",
       "      <td>4.000000</td>\n",
       "      <td>5.000000</td>\n",
       "      <td>4.000000</td>\n",
       "      <td>4.000000</td>\n",
       "      <td>1.000000</td>\n",
       "      <td>1.000000</td>\n",
       "      <td>0.000000</td>\n",
       "      <td>1.000000</td>\n",
       "    </tr>\n",
       "    <tr>\n",
       "      <th>max</th>\n",
       "      <td>26706.000000</td>\n",
       "      <td>3.000000</td>\n",
       "      <td>2.000000</td>\n",
       "      <td>1.000000</td>\n",
       "      <td>1.000000</td>\n",
       "      <td>1.000000</td>\n",
       "      <td>1.000000</td>\n",
       "      <td>1.00000</td>\n",
       "      <td>1.000000</td>\n",
       "      <td>1.000000</td>\n",
       "      <td>...</td>\n",
       "      <td>5.000000</td>\n",
       "      <td>5.000000</td>\n",
       "      <td>5.000000</td>\n",
       "      <td>5.000000</td>\n",
       "      <td>5.000000</td>\n",
       "      <td>5.000000</td>\n",
       "      <td>3.000000</td>\n",
       "      <td>3.000000</td>\n",
       "      <td>1.000000</td>\n",
       "      <td>1.000000</td>\n",
       "    </tr>\n",
       "  </tbody>\n",
       "</table>\n",
       "<p>8 rows × 26 columns</p>\n",
       "</div>"
      ],
      "text/plain": [
       "       respondent_id  h1n1_concern  h1n1_knowledge  behavioral_antiviral_meds  \\\n",
       "count   26707.000000  26615.000000    26591.000000               26636.000000   \n",
       "mean    13353.000000      1.618486        1.262532                   0.048844   \n",
       "std      7709.791156      0.910311        0.618149                   0.215545   \n",
       "min         0.000000      0.000000        0.000000                   0.000000   \n",
       "25%      6676.500000      1.000000        1.000000                   0.000000   \n",
       "50%     13353.000000      2.000000        1.000000                   0.000000   \n",
       "75%     20029.500000      2.000000        2.000000                   0.000000   \n",
       "max     26706.000000      3.000000        2.000000                   1.000000   \n",
       "\n",
       "       behavioral_avoidance  behavioral_face_mask  behavioral_wash_hands  \\\n",
       "count          26499.000000          26688.000000           26665.000000   \n",
       "mean               0.725612              0.068982               0.825614   \n",
       "std                0.446214              0.253429               0.379448   \n",
       "min                0.000000              0.000000               0.000000   \n",
       "25%                0.000000              0.000000               1.000000   \n",
       "50%                1.000000              0.000000               1.000000   \n",
       "75%                1.000000              0.000000               1.000000   \n",
       "max                1.000000              1.000000               1.000000   \n",
       "\n",
       "       behavioral_large_gatherings  behavioral_outside_home  \\\n",
       "count                  26620.00000             26625.000000   \n",
       "mean                       0.35864                 0.337315   \n",
       "std                        0.47961                 0.472802   \n",
       "min                        0.00000                 0.000000   \n",
       "25%                        0.00000                 0.000000   \n",
       "50%                        0.00000                 0.000000   \n",
       "75%                        1.00000                 1.000000   \n",
       "max                        1.00000                 1.000000   \n",
       "\n",
       "       behavioral_touch_face  ...  opinion_h1n1_vacc_effective  \\\n",
       "count           26579.000000  ...                 26316.000000   \n",
       "mean                0.677264  ...                     3.850623   \n",
       "std                 0.467531  ...                     1.007436   \n",
       "min                 0.000000  ...                     1.000000   \n",
       "25%                 0.000000  ...                     3.000000   \n",
       "50%                 1.000000  ...                     4.000000   \n",
       "75%                 1.000000  ...                     5.000000   \n",
       "max                 1.000000  ...                     5.000000   \n",
       "\n",
       "       opinion_h1n1_risk  opinion_h1n1_sick_from_vacc  \\\n",
       "count       26319.000000                 26312.000000   \n",
       "mean            2.342566                     2.357670   \n",
       "std             1.285539                     1.362766   \n",
       "min             1.000000                     1.000000   \n",
       "25%             1.000000                     1.000000   \n",
       "50%             2.000000                     2.000000   \n",
       "75%             4.000000                     4.000000   \n",
       "max             5.000000                     5.000000   \n",
       "\n",
       "       opinion_seas_vacc_effective  opinion_seas_risk  \\\n",
       "count                 26245.000000       26193.000000   \n",
       "mean                      4.025986           2.719162   \n",
       "std                       1.086565           1.385055   \n",
       "min                       1.000000           1.000000   \n",
       "25%                       4.000000           2.000000   \n",
       "50%                       4.000000           2.000000   \n",
       "75%                       5.000000           4.000000   \n",
       "max                       5.000000           5.000000   \n",
       "\n",
       "       opinion_seas_sick_from_vacc  household_adults  household_children  \\\n",
       "count                 26170.000000      26458.000000        26458.000000   \n",
       "mean                      2.118112          0.886499            0.534583   \n",
       "std                       1.332950          0.753422            0.928173   \n",
       "min                       1.000000          0.000000            0.000000   \n",
       "25%                       1.000000          0.000000            0.000000   \n",
       "50%                       2.000000          1.000000            0.000000   \n",
       "75%                       4.000000          1.000000            1.000000   \n",
       "max                       5.000000          3.000000            3.000000   \n",
       "\n",
       "       h1n1_vaccine  seasonal_vaccine  \n",
       "count  26707.000000      26707.000000  \n",
       "mean       0.212454          0.465608  \n",
       "std        0.409052          0.498825  \n",
       "min        0.000000          0.000000  \n",
       "25%        0.000000          0.000000  \n",
       "50%        0.000000          0.000000  \n",
       "75%        0.000000          1.000000  \n",
       "max        1.000000          1.000000  \n",
       "\n",
       "[8 rows x 26 columns]"
      ]
     },
     "execution_count": 116,
     "metadata": {},
     "output_type": "execute_result"
    }
   ],
   "source": [
    "# Summary for numeric columns\n",
    "df.describe()\n"
   ]
  },
  {
   "cell_type": "markdown",
   "id": "c565b37c",
   "metadata": {},
   "source": [
    "### 📊 Descriptive Statistics\n",
    "\n",
    "The `describe()` output provides summary statistics for the numeric columns in the dataset:\n",
    "\n",
    "- **`count`** shows how many non-null values each variable has. Some variables have slightly fewer rows than the total 26,707, indicating missing data.\n",
    "- **`mean`** shows the average value for each variable.\n",
    "- **`std`** shows the standard deviation, which tells us how spread out the values are.\n",
    "- **`min`**, **25%**, **50%** (median), **75%**, and **max** show the distribution of values for each variable.\n",
    "\n",
    "Key observations:\n",
    "- Many behavioral variables (`behavioral_*`) are binary (0 or 1) — you can see this from their min/max.\n",
    "- Opinion variables (`opinion_*`) use a Likert scale (e.g., 1 to 5) — their min/max and mean reflect attitudes toward vaccines.\n",
    "- The target variables `h1n1_vaccine` and `seasonal_vaccine` are binary (0 or 1), so the mean shows the proportion of people who got vaccinated.\n",
    "\n",
    "These descriptive stats help identify:\n",
    "- Variables with missing values (where `count` < 26,707).\n",
    "- Variables with binary or ordinal scales.\n",
    "- Potential outliers (not common here since most are 0–1 or Likert scale).\n",
    "\n",
    "This summary guides the **data cleaning**, **imputation**, and **encoding** steps.\n"
   ]
  },
  {
   "cell_type": "markdown",
   "id": "df42d293",
   "metadata": {},
   "source": [
    "✅ 5️⃣ Check for missing values"
   ]
  },
  {
   "cell_type": "code",
   "execution_count": 117,
   "id": "341ef994",
   "metadata": {},
   "outputs": [
    {
     "data": {
      "application/vnd.microsoft.datawrangler.viewer.v0+json": {
       "columns": [
        {
         "name": "index",
         "rawType": "object",
         "type": "string"
        },
        {
         "name": "0",
         "rawType": "int64",
         "type": "integer"
        }
       ],
       "ref": "eeaebc6f-1c75-412b-afaf-a9ece653ac0c",
       "rows": [
        [
         "respondent_id",
         "0"
        ],
        [
         "h1n1_concern",
         "92"
        ],
        [
         "h1n1_knowledge",
         "116"
        ],
        [
         "behavioral_antiviral_meds",
         "71"
        ],
        [
         "behavioral_avoidance",
         "208"
        ],
        [
         "behavioral_face_mask",
         "19"
        ],
        [
         "behavioral_wash_hands",
         "42"
        ],
        [
         "behavioral_large_gatherings",
         "87"
        ],
        [
         "behavioral_outside_home",
         "82"
        ],
        [
         "behavioral_touch_face",
         "128"
        ],
        [
         "doctor_recc_h1n1",
         "2160"
        ],
        [
         "doctor_recc_seasonal",
         "2160"
        ],
        [
         "chronic_med_condition",
         "971"
        ],
        [
         "child_under_6_months",
         "820"
        ],
        [
         "health_worker",
         "804"
        ],
        [
         "health_insurance",
         "12274"
        ],
        [
         "opinion_h1n1_vacc_effective",
         "391"
        ],
        [
         "opinion_h1n1_risk",
         "388"
        ],
        [
         "opinion_h1n1_sick_from_vacc",
         "395"
        ],
        [
         "opinion_seas_vacc_effective",
         "462"
        ],
        [
         "opinion_seas_risk",
         "514"
        ],
        [
         "opinion_seas_sick_from_vacc",
         "537"
        ],
        [
         "age_group",
         "0"
        ],
        [
         "education",
         "1407"
        ],
        [
         "race",
         "0"
        ],
        [
         "sex",
         "0"
        ],
        [
         "income_poverty",
         "4423"
        ],
        [
         "marital_status",
         "1408"
        ],
        [
         "rent_or_own",
         "2042"
        ],
        [
         "employment_status",
         "1463"
        ],
        [
         "hhs_geo_region",
         "0"
        ],
        [
         "census_msa",
         "0"
        ],
        [
         "household_adults",
         "249"
        ],
        [
         "household_children",
         "249"
        ],
        [
         "employment_industry",
         "13330"
        ],
        [
         "employment_occupation",
         "13470"
        ],
        [
         "h1n1_vaccine",
         "0"
        ],
        [
         "seasonal_vaccine",
         "0"
        ]
       ],
       "shape": {
        "columns": 1,
        "rows": 38
       }
      },
      "text/plain": [
       "respondent_id                      0\n",
       "h1n1_concern                      92\n",
       "h1n1_knowledge                   116\n",
       "behavioral_antiviral_meds         71\n",
       "behavioral_avoidance             208\n",
       "behavioral_face_mask              19\n",
       "behavioral_wash_hands             42\n",
       "behavioral_large_gatherings       87\n",
       "behavioral_outside_home           82\n",
       "behavioral_touch_face            128\n",
       "doctor_recc_h1n1                2160\n",
       "doctor_recc_seasonal            2160\n",
       "chronic_med_condition            971\n",
       "child_under_6_months             820\n",
       "health_worker                    804\n",
       "health_insurance               12274\n",
       "opinion_h1n1_vacc_effective      391\n",
       "opinion_h1n1_risk                388\n",
       "opinion_h1n1_sick_from_vacc      395\n",
       "opinion_seas_vacc_effective      462\n",
       "opinion_seas_risk                514\n",
       "opinion_seas_sick_from_vacc      537\n",
       "age_group                          0\n",
       "education                       1407\n",
       "race                               0\n",
       "sex                                0\n",
       "income_poverty                  4423\n",
       "marital_status                  1408\n",
       "rent_or_own                     2042\n",
       "employment_status               1463\n",
       "hhs_geo_region                     0\n",
       "census_msa                         0\n",
       "household_adults                 249\n",
       "household_children               249\n",
       "employment_industry            13330\n",
       "employment_occupation          13470\n",
       "h1n1_vaccine                       0\n",
       "seasonal_vaccine                   0\n",
       "dtype: int64"
      ]
     },
     "execution_count": 117,
     "metadata": {},
     "output_type": "execute_result"
    }
   ],
   "source": [
    "# Count missing values per column\n",
    "df.isnull().sum()\n"
   ]
  },
  {
   "cell_type": "markdown",
   "id": "5d6d1cbc",
   "metadata": {},
   "source": [
    "### ⚠️ Missing Values Summary\n",
    "\n",
    "\n",
    "- Some columns have **few missing values** (e.g., `behavioral_face_mask` only 19 missing).\n",
    "- A few variables have **moderate missingness** (e.g., `doctor_recc_h1n1` and `doctor_recc_seasonal` each missing ~2,160 rows).\n",
    "- A few variables have **substantial missingness**:\n",
    "  - `health_insurance` (12,274 missing, ~46%)\n",
    "  - `employment_industry` and `employment_occupation` (over 13,000 missing, ~50%)\n",
    "\n",
    "The **target variables** (`h1n1_vaccine` and `seasonal_vaccine`) have **no missing values**\n",
    "\n",
    "\n",
    "\n"
   ]
  },
  {
   "cell_type": "markdown",
   "id": "a9d933d3",
   "metadata": {},
   "source": [
    "✅ 6️⃣ Check unique values in categorical columns"
   ]
  },
  {
   "cell_type": "code",
   "execution_count": 118,
   "id": "323aadfc",
   "metadata": {},
   "outputs": [
    {
     "name": "stdout",
     "output_type": "stream",
     "text": [
      "age_group: ['55 - 64 Years' '35 - 44 Years' '18 - 34 Years' '65+ Years'\n",
      " '45 - 54 Years']\n",
      "education: ['< 12 Years' '12 Years' 'College Graduate' 'Some College' nan]\n",
      "race: ['White' 'Black' 'Other or Multiple' 'Hispanic']\n",
      "sex: ['Female' 'Male']\n",
      "income_poverty: ['Below Poverty' '<= $75,000, Above Poverty' '> $75,000' nan]\n",
      "marital_status: ['Not Married' 'Married' nan]\n",
      "rent_or_own: ['Own' 'Rent' nan]\n",
      "employment_status: ['Not in Labor Force' 'Employed' 'Unemployed' nan]\n",
      "hhs_geo_region: ['oxchjgsf' 'bhuqouqj' 'qufhixun' 'lrircsnp' 'atmpeygn' 'lzgpxyit'\n",
      " 'fpwskwrf' 'mlyzmhmf' 'dqpwygqj' 'kbazzjca']\n",
      "census_msa: ['Non-MSA' 'MSA, Not Principle  City' 'MSA, Principle City']\n",
      "employment_industry: [nan 'pxcmvdjn' 'rucpziij' 'wxleyezf' 'saaquncn' 'xicduogh' 'ldnlellj'\n",
      " 'wlfvacwt' 'nduyfdeo' 'fcxhlnwr' 'vjjrobsf' 'arjwrbjb' 'atmlpfrs'\n",
      " 'msuufmds' 'xqicxuve' 'phxvnwax' 'dotnnunm' 'mfikgejo' 'cfqqtusy'\n",
      " 'mcubkhph' 'haxffmxo' 'qnlwzans']\n",
      "employment_occupation: [nan 'xgwztkwe' 'xtkaffoo' 'emcorrxb' 'vlluhbov' 'xqwwgdyp' 'ccgxvspp'\n",
      " 'qxajmpny' 'kldqjyjy' 'mxkfnird' 'hfxkjkmi' 'bxpfxfdn' 'ukymxvdu'\n",
      " 'cmhcxjea' 'haliazsg' 'dlvbwzss' 'xzmlyyjv' 'oijqvulv' 'rcertsgn'\n",
      " 'tfqavkke' 'hodpvpew' 'uqqtjvyb' 'pvmttkik' 'dcjcmpih']\n"
     ]
    }
   ],
   "source": [
    "# Example: see unique values for selected columns\n",
    "categorical_columns = df.select_dtypes(include=['object']).columns\n",
    "for col in categorical_columns:\n",
    "    print(f\"{col}: {df[col].unique()}\")\n"
   ]
  },
  {
   "cell_type": "markdown",
   "id": "3d8c4440",
   "metadata": {},
   "source": [
    "### 🔑 Categorical Variables & Unique Values\n",
    "\n",
    "**Key categories:**  \n",
    "- `age_group`: 5 clear age ranges, no missing values.\n",
    "- `education`: 4 levels plus missing (`nan`).\n",
    "- `race`: 4 groups, no missing.\n",
    "- `sex`: Binary (`Female`, `Male`).\n",
    "- `income_poverty`: 3 levels plus missing.\n",
    "- `marital_status`: `Married` or `Not Married` plus missing.\n",
    "- `rent_or_own`: `Own` or `Rent` plus missing.\n",
    "- `employment_status`: 3 categories plus missing.\n",
    "- `hhs_geo_region`: 10 region codes (nominal, encoded as text).\n",
    "- `census_msa`: 3 metro status categories.\n",
    "- `employment_industry` & `employment_occupation`: Many coded categories, ~50% missing.\n",
    "\n",
    "\n"
   ]
  },
  {
   "cell_type": "markdown",
   "id": "13284a19",
   "metadata": {},
   "source": [
    "✅ 7️⃣ Basic target distribution"
   ]
  },
  {
   "cell_type": "code",
   "execution_count": 119,
   "id": "1024f85c",
   "metadata": {},
   "outputs": [
    {
     "name": "stdout",
     "output_type": "stream",
     "text": [
      "h1n1_vaccine\n",
      "0    21033\n",
      "1     5674\n",
      "Name: count, dtype: int64\n",
      "seasonal_vaccine\n",
      "0    14272\n",
      "1    12435\n",
      "Name: count, dtype: int64\n"
     ]
    }
   ],
   "source": [
    "# Check target variable distribution\n",
    "print(df['h1n1_vaccine'].value_counts())\n",
    "print(df['seasonal_vaccine'].value_counts())\n"
   ]
  },
  {
   "cell_type": "markdown",
   "id": "a4ce1d9c",
   "metadata": {},
   "source": [
    "### Target Variable Distribution\n",
    "\n",
    "**H1N1 Vaccine:**  \n",
    "- `0` → 21,033 respondents **did not receive** the H1N1 vaccine.\n",
    "- `1` → 5,674 respondents **did receive** the H1N1 vaccine.\n",
    "- This shows **class imbalance**: about **79% did not vaccinate**.\n",
    "\n",
    "**Seasonal Flu Vaccine:**  \n",
    "- `0` → 14,272 respondents **did not receive** the seasonal flu vaccine.\n",
    "- `1` → 12,435 respondents **did receive** the seasonal flu vaccine.\n",
    "- This is more balanced: about **53% did not vaccinate** vs **47% did**.\n",
    "\n",
    "\n"
   ]
  },
  {
   "cell_type": "markdown",
   "id": "182c8eb8",
   "metadata": {},
   "source": [
    "# 3 Data Preparation\n",
    "### 1️⃣ Handle Missing Values\n",
    "Identify all missing values\n"
   ]
  },
  {
   "cell_type": "code",
   "execution_count": 120,
   "id": "d0fdad24",
   "metadata": {},
   "outputs": [
    {
     "name": "stdout",
     "output_type": "stream",
     "text": [
      "                             Count  Percentage\n",
      "employment_occupation        13470   50.436215\n",
      "employment_industry          13330   49.912008\n",
      "health_insurance             12274   45.957989\n",
      "income_poverty                4423   16.561201\n",
      "doctor_recc_h1n1              2160    8.087767\n",
      "doctor_recc_seasonal          2160    8.087767\n",
      "rent_or_own                   2042    7.645936\n",
      "employment_status             1463    5.477965\n",
      "marital_status                1408    5.272026\n",
      "education                     1407    5.268282\n",
      "chronic_med_condition          971    3.635751\n",
      "child_under_6_months           820    3.070356\n",
      "health_worker                  804    3.010447\n",
      "opinion_seas_sick_from_vacc    537    2.010709\n",
      "opinion_seas_risk              514    1.924589\n",
      "opinion_seas_vacc_effective    462    1.729884\n",
      "opinion_h1n1_sick_from_vacc    395    1.479013\n",
      "opinion_h1n1_vacc_effective    391    1.464036\n",
      "opinion_h1n1_risk              388    1.452803\n",
      "household_adults               249    0.932340\n",
      "household_children             249    0.932340\n",
      "behavioral_avoidance           208    0.778822\n",
      "behavioral_touch_face          128    0.479275\n",
      "h1n1_knowledge                 116    0.434343\n",
      "h1n1_concern                    92    0.344479\n",
      "behavioral_large_gatherings     87    0.325757\n",
      "behavioral_outside_home         82    0.307036\n",
      "behavioral_antiviral_meds       71    0.265848\n",
      "behavioral_wash_hands           42    0.157262\n",
      "behavioral_face_mask            19    0.071142\n"
     ]
    }
   ],
   "source": [
    "# Total missing by column with count and percentage\n",
    "missing_count = df.isnull().sum()\n",
    "missing_count = missing_count[missing_count > 0].sort_values(ascending=False)\n",
    "\n",
    "missing_percent = (df.isnull().sum() / len(df)) * 100\n",
    "missing_percent = missing_percent[missing_percent > 0].sort_values(ascending=False)\n",
    "\n",
    "# Combine into a DataFrame for better display\n",
    "missing_data = pd.DataFrame({\n",
    "    'Count': missing_count,\n",
    "    'Percentage': missing_percent\n",
    "})\n",
    "\n",
    "print(missing_data)"
   ]
  },
  {
   "cell_type": "markdown",
   "id": "3f00aee3",
   "metadata": {},
   "source": [
    " 1️⃣ Very High Missing (≈50%)\n",
    "employment_occupation & employment_industry\n",
    "🔹 Too much missing to safely drop rows.\n",
    "🔹 Best practice: Keep & encode missing as \"Unknown\" — the fact that they didn’t report may be informative!\n",
    "\n",
    "👉 2️⃣ Medium Missing (10–50%)\n",
    "health_insurance (~46%)\n",
    "\n",
    "Binary: 0/1 — here missing might mean didn’t say, so safe to fill with mode.\n",
    "\n",
    "income_poverty (16%)\n",
    "\n",
    "Categorical ordinal — fill with mode or \"Unknown\" to keep the row.\n",
    "\n",
    "I’d recommend \"Unknown\" here — income is sensitive.\n",
    "\n",
    "👉 3️⃣ Low Missing (<10%)\n",
    "doctor_recc_h1n1, doctor_recc_seasonal — binary: Fill with mode\n",
    "\n",
    "rent_or_own — categorical: Fill with mode\n",
    "\n",
    "employment_status — categorical: Fill with mode\n",
    "\n",
    "marital_status — categorical: Fill with mode\n",
    "\n",
    "education — ordinal: Fill with mode\n",
    "\n",
    "chronic_med_condition — binary: Fill with mode\n",
    "\n",
    "child_under_6_months — binary: Fill with mode\n",
    "\n",
    "health_worker — binary: Fill with mode\n",
    "\n",
    "opinion_* — ordinal: Fill with mode\n",
    "\n",
    "household_* — numeric count: Fill with median\n",
    "\n",
    "behavioral_* — binary: Fill with mode\n",
    "\n",
    "h1n1_knowledge, h1n1_concern — ordinal: Fill with mode"
   ]
  },
  {
   "cell_type": "code",
   "execution_count": 121,
   "id": "67e14ab6",
   "metadata": {},
   "outputs": [
    {
     "name": "stdout",
     "output_type": "stream",
     "text": [
      "Remaining missing values: 0\n"
     ]
    }
   ],
   "source": [
    "# Group 1: High missing => Fill with 'Unknown'\n",
    "df['employment_occupation'] = df['employment_occupation'].fillna('Unknown')\n",
    "df['employment_industry'] = df['employment_industry'].fillna('Unknown')\n",
    "\n",
    "# Group 2: Medium missing\n",
    "df['health_insurance'] = df['health_insurance'].fillna(df['health_insurance'].mode()[0])\n",
    "df['income_poverty'] = df['income_poverty'].fillna('Unknown')\n",
    "\n",
    "# Group 3: Low missing\n",
    "binary_cols = [\n",
    "    'doctor_recc_h1n1', 'doctor_recc_seasonal',\n",
    "    'chronic_med_condition', 'child_under_6_months',\n",
    "    'health_worker'\n",
    "]\n",
    "\n",
    "for col in binary_cols:\n",
    "    df[col] = df[col].fillna(df[col].mode()[0])\n",
    "\n",
    "categorical_cols = [\n",
    "    'rent_or_own', 'employment_status',\n",
    "    'marital_status', 'education'\n",
    "]\n",
    "\n",
    "for col in categorical_cols:\n",
    "    df[col] = df[col].fillna(df[col].mode()[0])\n",
    "\n",
    "# Opinion variables => ordinal, use mode\n",
    "opinion_cols = [\n",
    "    'opinion_seas_sick_from_vacc', 'opinion_seas_risk',\n",
    "    'opinion_seas_vacc_effective', 'opinion_h1n1_sick_from_vacc',\n",
    "    'opinion_h1n1_vacc_effective', 'opinion_h1n1_risk'\n",
    "]\n",
    "\n",
    "for col in opinion_cols:\n",
    "    df[col] = df[col].fillna(df[col].mode()[0])\n",
    "\n",
    "# Household counts => numeric\n",
    "df['household_adults'] = df['household_adults'].fillna(df['household_adults'].median())\n",
    "df['household_children'] = df['household_children'].fillna(df['household_children'].median())\n",
    "\n",
    "# Behavioral columns => binary, fill with mode\n",
    "behavioral_cols = [\n",
    "    'behavioral_avoidance', 'behavioral_touch_face',\n",
    "    'behavioral_large_gatherings', 'behavioral_outside_home',\n",
    "    'behavioral_antiviral_meds', 'behavioral_wash_hands',\n",
    "    'behavioral_face_mask'\n",
    "]\n",
    "\n",
    "for col in behavioral_cols:\n",
    "    df[col] = df[col].fillna(df[col].mode()[0])\n",
    "\n",
    "# Remaining ordinal\n",
    "df['h1n1_concern'] = df['h1n1_concern'].fillna(df['h1n1_concern'].mode()[0])\n",
    "df['h1n1_knowledge'] = df['h1n1_knowledge'].fillna(df['h1n1_knowledge'].mode()[0])\n",
    "\n",
    "# ✅ Final check\n",
    "print(\"Remaining missing values:\", df.isnull().sum().sum())\n"
   ]
  },
  {
   "cell_type": "markdown",
   "id": "26a1a44c",
   "metadata": {},
   "source": [
    "1️⃣ Binary / Ordinal variables — float to int\n",
    "These are columns like:\n",
    "\n",
    "All behavioral_*\n",
    "\n",
    "doctor_recc_*\n",
    "\n",
    "chronic_med_condition\n",
    "\n",
    "child_under_6_months\n",
    "\n",
    "health_worker\n",
    "\n",
    "health_insurance\n",
    "\n",
    "h1n1_concern, h1n1_knowledge\n",
    "\n",
    "household_adults, household_children (should be int)"
   ]
  },
  {
   "cell_type": "code",
   "execution_count": 122,
   "id": "4462efd9",
   "metadata": {},
   "outputs": [],
   "source": [
    "# Binary & ordinal variables\n",
    "binary_ordinal_cols = [\n",
    "    'h1n1_concern', 'h1n1_knowledge',\n",
    "    'behavioral_antiviral_meds', 'behavioral_avoidance', 'behavioral_face_mask',\n",
    "    'behavioral_wash_hands', 'behavioral_large_gatherings',\n",
    "    'behavioral_outside_home', 'behavioral_touch_face',\n",
    "    'doctor_recc_h1n1', 'doctor_recc_seasonal',\n",
    "    'chronic_med_condition', 'child_under_6_months',\n",
    "    'health_worker', 'health_insurance',\n",
    "    'household_adults', 'household_children',\n",
    "    'opinion_h1n1_vacc_effective', 'opinion_h1n1_risk',\n",
    "    'opinion_h1n1_sick_from_vacc', 'opinion_seas_vacc_effective',\n",
    "    'opinion_seas_risk', 'opinion_seas_sick_from_vacc'\n",
    "]\n",
    "\n",
    "for col in binary_ordinal_cols:\n",
    "    df[col] = df[col].astype('Int64')  # allows NA handling too\n"
   ]
  },
  {
   "cell_type": "markdown",
   "id": "2410e5bf",
   "metadata": {},
   "source": [
    " Categorical variables — convert object to category"
   ]
  },
  {
   "cell_type": "code",
   "execution_count": 123,
   "id": "7ab23d92",
   "metadata": {},
   "outputs": [
    {
     "name": "stdout",
     "output_type": "stream",
     "text": [
      "<class 'pandas.core.frame.DataFrame'>\n",
      "RangeIndex: 26707 entries, 0 to 26706\n",
      "Data columns (total 38 columns):\n",
      " #   Column                       Non-Null Count  Dtype   \n",
      "---  ------                       --------------  -----   \n",
      " 0   respondent_id                26707 non-null  int64   \n",
      " 1   h1n1_concern                 26707 non-null  Int64   \n",
      " 2   h1n1_knowledge               26707 non-null  Int64   \n",
      " 3   behavioral_antiviral_meds    26707 non-null  Int64   \n",
      " 4   behavioral_avoidance         26707 non-null  Int64   \n",
      " 5   behavioral_face_mask         26707 non-null  Int64   \n",
      " 6   behavioral_wash_hands        26707 non-null  Int64   \n",
      " 7   behavioral_large_gatherings  26707 non-null  Int64   \n",
      " 8   behavioral_outside_home      26707 non-null  Int64   \n",
      " 9   behavioral_touch_face        26707 non-null  Int64   \n",
      " 10  doctor_recc_h1n1             26707 non-null  Int64   \n",
      " 11  doctor_recc_seasonal         26707 non-null  Int64   \n",
      " 12  chronic_med_condition        26707 non-null  Int64   \n",
      " 13  child_under_6_months         26707 non-null  Int64   \n",
      " 14  health_worker                26707 non-null  Int64   \n",
      " 15  health_insurance             26707 non-null  Int64   \n",
      " 16  opinion_h1n1_vacc_effective  26707 non-null  Int64   \n",
      " 17  opinion_h1n1_risk            26707 non-null  Int64   \n",
      " 18  opinion_h1n1_sick_from_vacc  26707 non-null  Int64   \n",
      " 19  opinion_seas_vacc_effective  26707 non-null  Int64   \n",
      " 20  opinion_seas_risk            26707 non-null  Int64   \n",
      " 21  opinion_seas_sick_from_vacc  26707 non-null  Int64   \n",
      " 22  age_group                    26707 non-null  category\n",
      " 23  education                    26707 non-null  category\n",
      " 24  race                         26707 non-null  category\n",
      " 25  sex                          26707 non-null  category\n",
      " 26  income_poverty               26707 non-null  category\n",
      " 27  marital_status               26707 non-null  category\n",
      " 28  rent_or_own                  26707 non-null  category\n",
      " 29  employment_status            26707 non-null  category\n",
      " 30  hhs_geo_region               26707 non-null  category\n",
      " 31  census_msa                   26707 non-null  category\n",
      " 32  household_adults             26707 non-null  Int64   \n",
      " 33  household_children           26707 non-null  Int64   \n",
      " 34  employment_industry          26707 non-null  category\n",
      " 35  employment_occupation        26707 non-null  category\n",
      " 36  h1n1_vaccine                 26707 non-null  int64   \n",
      " 37  seasonal_vaccine             26707 non-null  int64   \n",
      "dtypes: Int64(23), category(12), int64(3)\n",
      "memory usage: 6.2 MB\n"
     ]
    }
   ],
   "source": [
    "# Categorical features\n",
    "# Convert categorical columns to 'category' dtype\n",
    "categorical_cols = [\n",
    "    'age_group', 'education', 'race', 'sex',\n",
    "    'income_poverty', 'marital_status',\n",
    "    'rent_or_own', 'employment_status',\n",
    "    'employment_industry', 'employment_occupation',\n",
    "    'hhs_geo_region', 'census_msa'\n",
    "]\n",
    "\n",
    "for col in categorical_cols:\n",
    "    df[col] = df[col].astype('category')\n",
    "# Final info to confirm the changes\n",
    "df.info()\n",
    "\n"
   ]
  },
  {
   "cell_type": "code",
   "execution_count": 124,
   "id": "d0ef0816",
   "metadata": {},
   "outputs": [
    {
     "name": "stdout",
     "output_type": "stream",
     "text": [
      "Empty DataFrame\n",
      "Columns: [Count, Percentage]\n",
      "Index: []\n"
     ]
    }
   ],
   "source": [
    "# Total missing by column with count and percentage\n",
    "missing_count = df.isnull().sum()\n",
    "missing_count = missing_count[missing_count > 0].sort_values(ascending=False)\n",
    "\n",
    "missing_percent = (df.isnull().sum() / len(df)) * 100\n",
    "missing_percent = missing_percent[missing_percent > 0].sort_values(ascending=False)\n",
    "\n",
    "# Combine into a DataFrame for better display\n",
    "missing_data = pd.DataFrame({\n",
    "    'Count': missing_count,\n",
    "    'Percentage': missing_percent\n",
    "})\n",
    "\n",
    "print(missing_data)"
   ]
  },
  {
   "cell_type": "code",
   "execution_count": 125,
   "id": "702faca8",
   "metadata": {},
   "outputs": [
    {
     "name": "stdout",
     "output_type": "stream",
     "text": [
      "                             Unique_Count  Unique_Percentage\n",
      "respondent_id                       26707             100.00\n",
      "h1n1_concern                            4               0.01\n",
      "h1n1_knowledge                          3               0.01\n",
      "behavioral_antiviral_meds               2               0.01\n",
      "behavioral_avoidance                    2               0.01\n",
      "behavioral_face_mask                    2               0.01\n",
      "behavioral_wash_hands                   2               0.01\n",
      "behavioral_large_gatherings             2               0.01\n",
      "behavioral_outside_home                 2               0.01\n",
      "behavioral_touch_face                   2               0.01\n",
      "doctor_recc_h1n1                        2               0.01\n",
      "doctor_recc_seasonal                    2               0.01\n",
      "chronic_med_condition                   2               0.01\n",
      "child_under_6_months                    2               0.01\n",
      "health_worker                           2               0.01\n",
      "health_insurance                        2               0.01\n",
      "opinion_h1n1_vacc_effective             5               0.02\n",
      "opinion_h1n1_risk                       5               0.02\n",
      "opinion_h1n1_sick_from_vacc             5               0.02\n",
      "opinion_seas_vacc_effective             5               0.02\n",
      "opinion_seas_risk                       5               0.02\n",
      "opinion_seas_sick_from_vacc             5               0.02\n",
      "age_group                               5               0.02\n",
      "education                               4               0.01\n",
      "race                                    4               0.01\n",
      "sex                                     2               0.01\n",
      "income_poverty                          4               0.01\n",
      "marital_status                          2               0.01\n",
      "rent_or_own                             2               0.01\n",
      "employment_status                       3               0.01\n",
      "hhs_geo_region                         10               0.04\n",
      "census_msa                              3               0.01\n",
      "household_adults                        4               0.01\n",
      "household_children                      4               0.01\n",
      "employment_industry                    22               0.08\n",
      "employment_occupation                  24               0.09\n",
      "h1n1_vaccine                            2               0.01\n",
      "seasonal_vaccine                        2               0.01\n"
     ]
    }
   ],
   "source": [
    "# Summary DataFrame of unique values\n",
    "unique_summary = pd.DataFrame({\n",
    "    'Unique_Count': df.nunique(),\n",
    "    'Unique_Percentage': (df.nunique() / len(df)) * 100\n",
    "}).round(2)\n",
    "\n",
    "print(unique_summary)"
   ]
  },
  {
   "cell_type": "markdown",
   "id": "609c6387",
   "metadata": {},
   "source": [
    "- respondent_id → unique for every row **(not useful as a feature!)**\n",
    "- Many columns have 2 unique values → binary **(OK as 0/1)**\n",
    "- Some have 3–5 → ordinal **(keep as int)**\n",
    "- Some have 10+ → nominal categories **(need encoding)**\n"
   ]
  },
  {
   "cell_type": "markdown",
   "id": "ae3e62bb",
   "metadata": {},
   "source": [
    "Drop respondent_id"
   ]
  },
  {
   "cell_type": "code",
   "execution_count": 126,
   "id": "e8d20438",
   "metadata": {},
   "outputs": [],
   "source": [
    "df = df.drop('respondent_id', axis=1)\n"
   ]
  },
  {
   "cell_type": "markdown",
   "id": "ae475d98",
   "metadata": {},
   "source": [
    "# 4.  Modelling"
   ]
  }
 ],
 "metadata": {
  "kernelspec": {
   "display_name": "base",
   "language": "python",
   "name": "python3"
  },
  "language_info": {
   "codemirror_mode": {
    "name": "ipython",
    "version": 3
   },
   "file_extension": ".py",
   "mimetype": "text/x-python",
   "name": "python",
   "nbconvert_exporter": "python",
   "pygments_lexer": "ipython3",
   "version": "3.11.7"
  }
 },
 "nbformat": 4,
 "nbformat_minor": 5
}
